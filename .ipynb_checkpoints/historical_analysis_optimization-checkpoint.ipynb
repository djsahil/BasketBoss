{
 "cells": [
  {
   "cell_type": "code",
   "execution_count": 1,
   "id": "d8fdd92d",
   "metadata": {},
   "outputs": [
    {
     "name": "stderr",
     "output_type": "stream",
     "text": [
      "[*********************100%%**********************]  1 of 1 completed\n",
      "[*********************100%%**********************]  1 of 1 completed\n",
      "[*********************100%%**********************]  1 of 1 completed\n",
      "[*********************100%%**********************]  1 of 1 completed\n",
      "[*********************100%%**********************]  1 of 1 completed\n",
      "[*********************100%%**********************]  1 of 1 completed\n",
      "[*********************100%%**********************]  1 of 1 completed\n",
      "[*********************100%%**********************]  1 of 1 completed\n",
      "[*********************100%%**********************]  1 of 1 completed\n",
      "[*********************100%%**********************]  1 of 1 completed"
     ]
    },
    {
     "name": "stdout",
     "output_type": "stream",
     "text": [
      "  Ticker  Total Return  Volatility  Max Drawdown  Average Annual Return  \\\n",
      "0   AAPL      3.633112    0.341193     -0.314273             375.470539   \n",
      "1     GS      1.365048    0.361209     -0.456210             140.445242   \n",
      "2    IBM      0.405745    0.295225     -0.389801              59.243994   \n",
      "3   INTC      0.178846    0.390315     -0.345265              48.563508   \n",
      "4    JNJ      0.449921    0.215700     -0.273662              54.146698   \n",
      "5    JPM      0.746789    0.354104     -0.436265              84.082907   \n",
      "6     MS      1.636925    0.388302     -0.513258             150.612940   \n",
      "7    TRV      0.432674    0.320436     -0.462790              52.918238   \n",
      "8   GOOG      1.766735    0.295129     -0.307901             164.216168   \n",
      "9   TSLA     16.038243    0.669946     -0.606265            1272.419346   \n",
      "\n",
      "   Sharpe Ratio  \n",
      "0   1100.465137  \n",
      "1    388.820416  \n",
      "2    200.674334  \n",
      "3    124.421216  \n",
      "4    251.027823  \n",
      "5    237.452633  \n",
      "6    387.875730  \n",
      "7    165.144360  \n",
      "8    556.421522  \n",
      "9   1899.286510  \n"
     ]
    },
    {
     "name": "stderr",
     "output_type": "stream",
     "text": [
      "\n"
     ]
    }
   ],
   "source": [
    "import yfinance as yf\n",
    "import pandas as pd\n",
    "\n",
    "def calculate_metrics(ticker, start_date, end_date):\n",
    "    # Fetch historical data\n",
    "    stock_data = yf.download(ticker, start=start_date, end=end_date)\n",
    "\n",
    "    # Calculate daily returns\n",
    "    stock_data['Daily_Return'] = stock_data['Adj Close'].pct_change()\n",
    "\n",
    "    # Calculate volatility (annualized standard deviation of daily returns)\n",
    "    volatility = stock_data['Daily_Return'].std() * (252 ** 0.5)\n",
    "\n",
    "    # Calculate cumulative returns\n",
    "    cumulative_returns = (1 + stock_data['Daily_Return']).cumprod() - 1\n",
    "\n",
    "    # Calculate drawdowns\n",
    "    cumulative_max = cumulative_returns.cummax()\n",
    "    drawdowns = (cumulative_returns - cumulative_max) / (cumulative_max + 1)\n",
    "\n",
    "    # Calculate metrics\n",
    "    total_return = cumulative_returns.iloc[-1]\n",
    "    max_drawdown = drawdowns.min()\n",
    "    avg_annual_return = cumulative_returns.mean() * 252\n",
    "    sharpe_ratio = avg_annual_return / volatility\n",
    "\n",
    "    return {\n",
    "        'Ticker': ticker,\n",
    "        'Total Return': total_return,\n",
    "        'Volatility': volatility,\n",
    "        'Max Drawdown': max_drawdown,\n",
    "        'Average Annual Return': avg_annual_return,\n",
    "        'Sharpe Ratio': sharpe_ratio\n",
    "    }\n",
    "\n",
    "# Example usage\n",
    "stocks = ['AAPL', 'GS', 'IBM', 'INTC', 'JNJ', 'JPM', 'MS', 'TRV', 'GOOG', 'TSLA']\n",
    "start_date = '2000-01-01'\n",
    "end_date = '2022-01-01'\n",
    "\n",
    "metrics_data = []\n",
    "for ticker in stocks:\n",
    "    metrics = calculate_metrics(ticker, start_date, end_date)\n",
    "    metrics_data.append(metrics)\n",
    "\n",
    "# Create a DataFrame to display results\n",
    "metrics_df = pd.DataFrame(metrics_data)\n",
    "print(metrics_df)\n"
   ]
  },
  {
   "cell_type": "code",
   "execution_count": null,
   "id": "6afdce0e",
   "metadata": {},
   "outputs": [],
   "source": []
  }
 ],
 "metadata": {
  "kernelspec": {
   "display_name": "Python 3 (ipykernel)",
   "language": "python",
   "name": "python3"
  },
  "language_info": {
   "codemirror_mode": {
    "name": "ipython",
    "version": 3
   },
   "file_extension": ".py",
   "mimetype": "text/x-python",
   "name": "python",
   "nbconvert_exporter": "python",
   "pygments_lexer": "ipython3",
   "version": "3.11.5"
  }
 },
 "nbformat": 4,
 "nbformat_minor": 5
}
