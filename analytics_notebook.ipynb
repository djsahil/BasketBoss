{
 "cells": [
  {
   "cell_type": "code",
   "execution_count": 8,
   "id": "c60fda61-ac00-41a5-974c-845294e013cb",
   "metadata": {
    "tags": []
   },
   "outputs": [],
   "source": [
    "import yfinance\n",
    "import json\n",
    "import jinja2\n",
    "# For DataFrame\n",
    "import pandas\n",
    "import numpy as np\n",
    "import matplotlib.pyplot as plt\n",
    "import warnings"
   ]
  },
  {
   "cell_type": "code",
   "execution_count": 9,
   "id": "050ce07a-f20b-44dc-bb43-575e5de45be8",
   "metadata": {
    "tags": []
   },
   "outputs": [],
   "source": [
    "def fetch_stock_info(stocks):\n",
    "\n",
    "    stock_data = {\n",
    "        'Symbol': [],\n",
    "        'Name': [],\n",
    "        'Industry': [],\n",
    "        'Forward Earnings Per Share (EPS)': [],\n",
    "        'Forward Price to Earnings Ratio (P/E)': [],\n",
    "        'Price/Earnings-to-Growth Ratio (PEG)': [],\n",
    "        # 'Free Cash Flow Yield (FCFY)': []],\n",
    "        'Price to Book Ratio (P/B)': [],\n",
    "        'Return on Equity (ROE)': [],\n",
    "        '12-Month Trailing Price-to-Sales Ratio (P/S)': [],\n",
    "        'Dividend Payout Ratio (DPR)': [],\n",
    "        'Dividend Yield (DY)': [],\n",
    "        # 'Current Ratio (CR)': []],\n",
    "        'Beta': [],\n",
    "        'Price': [],\n",
    "        '52-Week Low': [],\n",
    "        '52-Week High': []\n",
    "    }\n",
    "\n",
    "    for ticker in stocks:\n",
    "        # GET Yahoo Finance TICKER INFO\n",
    "        yfTicker = yfinance.Ticker(ticker)\n",
    "        stock_info = yfTicker.info\n",
    "\n",
    "        stock_data['Symbol'].append(stock_info['symbol'])\n",
    "        stock_data['Name'].append(stock_info['shortName'])\n",
    "        stock_data['Industry'].append(stock_info['industry'])\n",
    "        stock_data['Forward Earnings Per Share (EPS)'].append(stock_info['forwardEps'])\n",
    "        stock_data['Forward Price to Earnings Ratio (P/E)'].append(stock_info['forwardPE'])\n",
    "        stock_data['Price/Earnings-to-Growth Ratio (PEG)'].append(stock_info['pegRatio'])\n",
    "        #stock_data['Free Cash Flow Yield (FCFY)'].append(stock_info['freeCashflow'])\n",
    "        stock_data['Price to Book Ratio (P/B)'].append(stock_info['priceToBook'])\n",
    "        stock_data['Return on Equity (ROE)'].append(stock_info['returnOnEquity'])\n",
    "        stock_data['12-Month Trailing Price-to-Sales Ratio (P/S)'].append(stock_info['priceToSalesTrailing12Months'])\n",
    "        stock_data['Dividend Payout Ratio (DPR)'].append(stock_info['payoutRatio'])\n",
    "        stock_data['Dividend Yield (DY)'].append(stock_info['dividendYield'])\n",
    "        #stock_data['Current Ratio (CR)'].append(stock_info['currentRatio'])\n",
    "        stock_data['Beta'].append(stock_info['beta'])\n",
    "        stock_data['Price'].append(stock_info['currentPrice'])\n",
    "        stock_data['52-Week Low'].append(stock_info['fiftyTwoWeekLow'])\n",
    "        stock_data['52-Week High'].append(stock_info['fiftyTwoWeekHigh'])\n",
    "\n",
    "    # Return a DF using the stock_data dictionary\n",
    "    return pandas.DataFrame(stock_data)\n"
   ]
  },
  {
   "cell_type": "code",
   "execution_count": 14,
   "id": "ada3bf1a-3c03-4326-9019-ec8c78ea2697",
   "metadata": {
    "tags": []
   },
   "outputs": [],
   "source": [
    "stocks = ['AAPL', 'GS', 'IBM', 'INTC', 'JNJ', 'JPM', 'MS', 'TRV']\n",
    "stock_info_dataframe = fetch_stock_info(stocks)\n",
    "print(stock_info_dataframe)"
   ]
  },
  {
   "cell_type": "code",
   "execution_count": null,
   "id": "1bc3d584-1d5c-41f6-a237-dd8ea3f26ca9",
   "metadata": {},
   "outputs": [],
   "source": []
  }
 ],
 "metadata": {
  "kernelspec": {
   "display_name": "Python 3 (ipykernel)",
   "language": "python",
   "name": "python3"
  },
  "language_info": {
   "codemirror_mode": {
    "name": "ipython",
    "version": 3
   },
   "file_extension": ".py",
   "mimetype": "text/x-python",
   "name": "python",
   "nbconvert_exporter": "python",
   "pygments_lexer": "ipython3",
   "version": "3.11.5"
  }
 },
 "nbformat": 4,
 "nbformat_minor": 5
}
