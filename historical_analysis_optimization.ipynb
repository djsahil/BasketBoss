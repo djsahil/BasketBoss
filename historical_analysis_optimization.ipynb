{
 "cells": [
  {
   "cell_type": "code",
   "execution_count": 2,
   "id": "989b39a4",
   "metadata": {},
   "outputs": [
    {
     "name": "stderr",
     "output_type": "stream",
     "text": [
      "[*********************100%%**********************]  1 of 1 completed\n",
      "[*********************100%%**********************]  1 of 1 completed\n",
      "[*********************100%%**********************]  1 of 1 completed\n",
      "[*********************100%%**********************]  1 of 1 completed\n",
      "[*********************100%%**********************]  1 of 1 completed\n",
      "[*********************100%%**********************]  1 of 1 completed\n",
      "[*********************100%%**********************]  1 of 1 completed\n",
      "[*********************100%%**********************]  1 of 1 completed\n",
      "[*********************100%%**********************]  1 of 1 completed\n",
      "[*********************100%%**********************]  1 of 1 completed"
     ]
    },
    {
     "name": "stdout",
     "output_type": "stream",
     "text": [
      "  Ticker  Total Return  Volatility  Max Drawdown  Average Annual Return  \\\n",
      "0   AAPL    206.226912    0.400587     -0.818014            6574.841940   \n",
      "1     GS      4.633490    0.370266     -0.788443             275.121652   \n",
      "2    IBM      0.987985    0.263492     -0.583042              87.587090   \n",
      "3   INTC      0.932952    0.374392     -0.822465             -15.753255   \n",
      "4    JNJ      5.500854    0.194607     -0.358800             402.305642   \n",
      "5    JPM      5.194844    0.387671     -0.740207             233.789991   \n",
      "6     MS      1.607115    0.494723     -0.881179             -19.467095   \n",
      "7    TRV      7.321224    0.293456     -0.551085             588.849435   \n",
      "8   GOOG     56.891876    0.302181     -0.652948            3093.851641   \n",
      "9   TSLA    220.176186    0.561841     -0.606265            6256.397089   \n",
      "\n",
      "   Sharpe Ratio  \n",
      "0  16413.010175  \n",
      "1    743.038028  \n",
      "2    332.408752  \n",
      "3    -42.076887  \n",
      "4   2067.272266  \n",
      "5    603.062894  \n",
      "6    -39.349515  \n",
      "7   2006.599147  \n",
      "8  10238.412237  \n",
      "9  11135.528329  \n"
     ]
    },
    {
     "name": "stderr",
     "output_type": "stream",
     "text": [
      "\n"
     ]
    }
   ],
   "source": [
    "import yfinance as yf\n",
    "import pandas as pd\n",
    "\n",
    "def calculate_metrics(ticker, start_date, end_date):\n",
    "    # Fetch historical data\n",
    "    stock_data = yf.download(ticker, start=start_date, end=end_date)\n",
    "\n",
    "    # Calculate daily returns\n",
    "    stock_data['Daily_Return'] = stock_data['Adj Close'].pct_change()\n",
    "\n",
    "    # Calculate volatility (annualized standard deviation of daily returns)\n",
    "    volatility = stock_data['Daily_Return'].std() * (252 ** 0.5)\n",
    "\n",
    "    # Calculate cumulative returns\n",
    "    cumulative_returns = (1 + stock_data['Daily_Return']).cumprod() - 1\n",
    "\n",
    "    # Calculate drawdowns\n",
    "    cumulative_max = cumulative_returns.cummax()\n",
    "    drawdowns = (cumulative_returns - cumulative_max) / (cumulative_max + 1)\n",
    "\n",
    "    # Calculate metrics\n",
    "    total_return = cumulative_returns.iloc[-1]\n",
    "    max_drawdown = drawdowns.min()\n",
    "    avg_annual_return = cumulative_returns.mean() * 252\n",
    "    sharpe_ratio = avg_annual_return / volatility\n",
    "\n",
    "    return {\n",
    "        'Ticker': ticker,\n",
    "        'Total Return': total_return,\n",
    "        'Volatility': volatility,\n",
    "        'Max Drawdown': max_drawdown,\n",
    "        'Average Annual Return': avg_annual_return,\n",
    "        'Sharpe Ratio': sharpe_ratio\n",
    "    }\n",
    "\n",
    "# Example usage\n",
    "stocks = ['AAPL', 'GS', 'IBM', 'INTC', 'JNJ', 'JPM', 'MS', 'TRV', 'GOOG', 'TSLA']\n",
    "start_date = '2000-01-01'\n",
    "end_date = '2022-01-01'\n",
    "\n",
    "metrics_data = []\n",
    "for ticker in stocks:\n",
    "    metrics = calculate_metrics(ticker, start_date, end_date)\n",
    "    metrics_data.append(metrics)\n",
    "\n",
    "# Create a DataFrame to display results\n",
    "metrics_df = pd.DataFrame(metrics_data)\n",
    "print(metrics_df)\n"
   ]
  },
  {
   "cell_type": "code",
   "execution_count": null,
   "id": "51c5c796",
   "metadata": {},
   "outputs": [],
   "source": []
  }
 ],
 "metadata": {
  "kernelspec": {
   "display_name": "Python 3 (ipykernel)",
   "language": "python",
   "name": "python3"
  },
  "language_info": {
   "codemirror_mode": {
    "name": "ipython",
    "version": 3
   },
   "file_extension": ".py",
   "mimetype": "text/x-python",
   "name": "python",
   "nbconvert_exporter": "python",
   "pygments_lexer": "ipython3",
   "version": "3.11.5"
  }
 },
 "nbformat": 4,
 "nbformat_minor": 5
}
