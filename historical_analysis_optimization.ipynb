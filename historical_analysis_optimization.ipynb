{
 "cells": [
  {
   "cell_type": "markdown",
   "id": "b0664300",
   "metadata": {},
   "source": [
    "### Setup\n",
    "#### Import Necessary Packages and suppress noisy warnings:"
   ]
  },
  {
   "cell_type": "code",
   "execution_count": 9,
   "id": "ab36985b",
   "metadata": {},
   "outputs": [],
   "source": [
    "import pandas\n",
    "import warnings\n",
    "import yfinance\n",
    "\n",
    "from pypfopt.efficient_frontier import EfficientFrontier\n",
    "from pypfopt import risk_models\n",
    "from pypfopt import expected_returns\n",
    "from pypfopt.discrete_allocation import DiscreteAllocation, get_latest_prices\n",
    "\n",
    "warnings.simplefilter(action='ignore', category=FutureWarning)\n",
    "warnings.simplefilter(action='ignore', category=DeprecationWarning)"
   ]
  },
  {
   "cell_type": "markdown",
   "id": "f8458d7d",
   "metadata": {},
   "source": [
    "#### Define a default dataframe grid style:"
   ]
  },
  {
   "cell_type": "code",
   "execution_count": 10,
   "id": "9623e626",
   "metadata": {},
   "outputs": [],
   "source": [
    "def style_basic(styler):\n",
    "\n",
    "    # Grid\n",
    "    styler.set_properties(**{'border': '0.1px solid black'})\n",
    "\n",
    "    # Remove index column\n",
    "    styler.hide(axis='index')\n",
    "\n",
    "    return styler"
   ]
  },
  {
   "cell_type": "markdown",
   "id": "24377678",
   "metadata": {},
   "source": [
    "#### Define Script PARAMS"
   ]
  },
  {
   "cell_type": "code",
   "execution_count": 11,
   "id": "68b67098",
   "metadata": {},
   "outputs": [],
   "source": [
    "# Stock Basket\n",
    "stocks = ['AAPL', 'GS', 'IBM', 'INTC', 'JNJ', 'JPM', 'MS', 'TRV', 'GOOG', 'TSLA']\n",
    "\n",
    "# Analysis Window - 5 Years (Correspond to Risk Free Rate)\n",
    "start_date = '2019-04-01'\n",
    "end_date = '2024-04-01'\n",
    "\n",
    "# Risk-Free Rate - 5 Year\n",
    "rf = 0.047\n",
    "\n",
    "# Investment Budget\n",
    "budget = 250000"
   ]
  },
  {
   "cell_type": "markdown",
   "id": "6bad4ee0",
   "metadata": {},
   "source": [
    "### Extract Historical Data & Calculate Metrics\n",
    "#### Define a function to pull historial data from Yahoo Finance and calculate metrics"
   ]
  },
  {
   "cell_type": "code",
   "execution_count": 12,
   "id": "989b39a4",
   "metadata": {},
   "outputs": [],
   "source": [
    "def calculate_metrics(ticker, start_date, end_date):\n",
    "    # Fetch historical data using yfinance\n",
    "    stock_data = yfinance.download(ticker, start=start_date, end=end_date)\n",
    "\n",
    "    # Calculate daily returns\n",
    "    stock_data['Daily_Return'] = stock_data['Adj Close'].pct_change()\n",
    "\n",
    "    # Calculate volatility (annualized standard deviation of daily returns)\n",
    "    volatility = stock_data['Daily_Return'].std() * (252 ** 0.5)\n",
    "\n",
    "    # Calculate cumulative returns\n",
    "    cumulative_returns = (1 + stock_data['Daily_Return']).cumprod() - 1\n",
    "\n",
    "    # Calculate drawdowns\n",
    "    cumulative_max = cumulative_returns.cummax()\n",
    "    drawdowns = (cumulative_returns - cumulative_max) / (cumulative_max + 1)\n",
    "\n",
    "    # Calculate metrics\n",
    "    total_return = cumulative_returns.iloc[-1]\n",
    "    max_drawdown = drawdowns.min()\n",
    "    avg_annual_return = cumulative_returns.mean() * 252\n",
    "    sharpe_ratio = avg_annual_return / volatility\n",
    "\n",
    "    return {\n",
    "        'Ticker': ticker,\n",
    "        'Total Return': total_return,\n",
    "        'Volatility': volatility,\n",
    "        'Max Drawdown': max_drawdown,\n",
    "        'Average Annual Return': avg_annual_return,\n",
    "        'Sharpe Ratio': sharpe_ratio\n",
    "    }"
   ]
  },
  {
   "cell_type": "markdown",
   "id": "d8a36d4d",
   "metadata": {},
   "source": [
    "#### Apply function to our basket of stocks"
   ]
  },
  {
   "cell_type": "code",
   "execution_count": 13,
   "id": "a207f28b",
   "metadata": {},
   "outputs": [
    {
     "name": "stderr",
     "output_type": "stream",
     "text": [
      "[*********************100%%**********************]  1 of 1 completed\n",
      "[*********************100%%**********************]  1 of 1 completed\n",
      "[*********************100%%**********************]  1 of 1 completed\n",
      "[*********************100%%**********************]  1 of 1 completed\n",
      "[*********************100%%**********************]  1 of 1 completed\n",
      "[*********************100%%**********************]  1 of 1 completed\n",
      "[*********************100%%**********************]  1 of 1 completed\n",
      "[*********************100%%**********************]  1 of 1 completed\n",
      "[*********************100%%**********************]  1 of 1 completed\n",
      "[*********************100%%**********************]  1 of 1 completed\n"
     ]
    },
    {
     "data": {
      "text/html": [
       "<style type=\"text/css\">\n",
       "#T_a9fd3 th.col_heading {\n",
       "  text-align: center;\n",
       "}\n",
       "#T_a9fd3 caption {\n",
       "  text-align: center;\n",
       "  font-size: 14pt;\n",
       "}\n",
       "#T_a9fd3_row0_col0, #T_a9fd3_row0_col1, #T_a9fd3_row0_col2, #T_a9fd3_row0_col3, #T_a9fd3_row0_col4, #T_a9fd3_row0_col5, #T_a9fd3_row1_col0, #T_a9fd3_row1_col1, #T_a9fd3_row1_col2, #T_a9fd3_row1_col3, #T_a9fd3_row1_col4, #T_a9fd3_row1_col5, #T_a9fd3_row2_col0, #T_a9fd3_row2_col1, #T_a9fd3_row2_col2, #T_a9fd3_row2_col3, #T_a9fd3_row2_col4, #T_a9fd3_row2_col5, #T_a9fd3_row3_col0, #T_a9fd3_row3_col1, #T_a9fd3_row3_col2, #T_a9fd3_row3_col3, #T_a9fd3_row3_col4, #T_a9fd3_row3_col5, #T_a9fd3_row4_col0, #T_a9fd3_row4_col1, #T_a9fd3_row4_col2, #T_a9fd3_row4_col3, #T_a9fd3_row4_col4, #T_a9fd3_row4_col5, #T_a9fd3_row5_col0, #T_a9fd3_row5_col1, #T_a9fd3_row5_col2, #T_a9fd3_row5_col3, #T_a9fd3_row5_col4, #T_a9fd3_row5_col5, #T_a9fd3_row6_col0, #T_a9fd3_row6_col1, #T_a9fd3_row6_col2, #T_a9fd3_row6_col3, #T_a9fd3_row6_col4, #T_a9fd3_row6_col5, #T_a9fd3_row7_col0, #T_a9fd3_row7_col1, #T_a9fd3_row7_col2, #T_a9fd3_row7_col3, #T_a9fd3_row7_col4, #T_a9fd3_row7_col5, #T_a9fd3_row8_col0, #T_a9fd3_row8_col1, #T_a9fd3_row8_col2, #T_a9fd3_row8_col3, #T_a9fd3_row8_col4, #T_a9fd3_row8_col5, #T_a9fd3_row9_col0, #T_a9fd3_row9_col1, #T_a9fd3_row9_col2, #T_a9fd3_row9_col3, #T_a9fd3_row9_col4, #T_a9fd3_row9_col5 {\n",
       "  border: 0.1px solid black;\n",
       "}\n",
       "</style>\n",
       "<table id=\"T_a9fd3\">\n",
       "  <caption>Historical Performance Metrics</caption>\n",
       "  <thead>\n",
       "    <tr>\n",
       "      <th id=\"T_a9fd3_level0_col0\" class=\"col_heading level0 col0\" >Ticker</th>\n",
       "      <th id=\"T_a9fd3_level0_col1\" class=\"col_heading level0 col1\" >Total Return</th>\n",
       "      <th id=\"T_a9fd3_level0_col2\" class=\"col_heading level0 col2\" >Volatility</th>\n",
       "      <th id=\"T_a9fd3_level0_col3\" class=\"col_heading level0 col3\" >Max Drawdown</th>\n",
       "      <th id=\"T_a9fd3_level0_col4\" class=\"col_heading level0 col4\" >Average Annual Return</th>\n",
       "      <th id=\"T_a9fd3_level0_col5\" class=\"col_heading level0 col5\" >Sharpe Ratio</th>\n",
       "    </tr>\n",
       "  </thead>\n",
       "  <tbody>\n",
       "    <tr>\n",
       "      <td id=\"T_a9fd3_row0_col0\" class=\"data row0 col0\" >AAPL</td>\n",
       "      <td id=\"T_a9fd3_row0_col1\" class=\"data row0 col1\" >2.725669</td>\n",
       "      <td id=\"T_a9fd3_row0_col2\" class=\"data row0 col2\" >0.317720</td>\n",
       "      <td id=\"T_a9fd3_row0_col3\" class=\"data row0 col3\" >-0.314273</td>\n",
       "      <td id=\"T_a9fd3_row0_col4\" class=\"data row0 col4\" >450.532552</td>\n",
       "      <td id=\"T_a9fd3_row0_col5\" class=\"data row0 col5\" >1418.017736</td>\n",
       "    </tr>\n",
       "    <tr>\n",
       "      <td id=\"T_a9fd3_row1_col0\" class=\"data row1 col0\" >GS</td>\n",
       "      <td id=\"T_a9fd3_row1_col1\" class=\"data row1 col1\" >1.398248</td>\n",
       "      <td id=\"T_a9fd3_row1_col2\" class=\"data row1 col2\" >0.324744</td>\n",
       "      <td id=\"T_a9fd3_row1_col3\" class=\"data row1 col3\" >-0.456210</td>\n",
       "      <td id=\"T_a9fd3_row1_col4\" class=\"data row1 col4\" >154.707969</td>\n",
       "      <td id=\"T_a9fd3_row1_col5\" class=\"data row1 col5\" >476.399142</td>\n",
       "    </tr>\n",
       "    <tr>\n",
       "      <td id=\"T_a9fd3_row2_col0\" class=\"data row2 col0\" >IBM</td>\n",
       "      <td id=\"T_a9fd3_row2_col1\" class=\"data row2 col1\" >0.774494</td>\n",
       "      <td id=\"T_a9fd3_row2_col2\" class=\"data row2 col2\" >0.264370</td>\n",
       "      <td id=\"T_a9fd3_row2_col3\" class=\"data row2 col3\" >-0.389801</td>\n",
       "      <td id=\"T_a9fd3_row2_col4\" class=\"data row2 col4\" >26.550501</td>\n",
       "      <td id=\"T_a9fd3_row2_col5\" class=\"data row2 col5\" >100.429213</td>\n",
       "    </tr>\n",
       "    <tr>\n",
       "      <td id=\"T_a9fd3_row3_col0\" class=\"data row3 col0\" >INTC</td>\n",
       "      <td id=\"T_a9fd3_row3_col1\" class=\"data row3 col1\" >-0.074048</td>\n",
       "      <td id=\"T_a9fd3_row3_col2\" class=\"data row3 col2\" >0.393424</td>\n",
       "      <td id=\"T_a9fd3_row3_col3\" class=\"data row3 col3\" >-0.616262</td>\n",
       "      <td id=\"T_a9fd3_row3_col4\" class=\"data row3 col4\" >-22.860307</td>\n",
       "      <td id=\"T_a9fd3_row3_col5\" class=\"data row3 col5\" >-58.106002</td>\n",
       "    </tr>\n",
       "    <tr>\n",
       "      <td id=\"T_a9fd3_row4_col0\" class=\"data row4 col0\" >JNJ</td>\n",
       "      <td id=\"T_a9fd3_row4_col1\" class=\"data row4 col1\" >0.304422</td>\n",
       "      <td id=\"T_a9fd3_row4_col2\" class=\"data row4 col2\" >0.198076</td>\n",
       "      <td id=\"T_a9fd3_row4_col3\" class=\"data row4 col3\" >-0.273663</td>\n",
       "      <td id=\"T_a9fd3_row4_col4\" class=\"data row4 col4\" >53.131438</td>\n",
       "      <td id=\"T_a9fd3_row4_col5\" class=\"data row4 col5\" >268.237819</td>\n",
       "    </tr>\n",
       "    <tr>\n",
       "      <td id=\"T_a9fd3_row5_col0\" class=\"data row5 col0\" >JPM</td>\n",
       "      <td id=\"T_a9fd3_row5_col1\" class=\"data row5 col1\" >1.223350</td>\n",
       "      <td id=\"T_a9fd3_row5_col2\" class=\"data row5 col2\" >0.317913</td>\n",
       "      <td id=\"T_a9fd3_row5_col3\" class=\"data row5 col3\" >-0.436265</td>\n",
       "      <td id=\"T_a9fd3_row5_col4\" class=\"data row5 col4\" >97.672254</td>\n",
       "      <td id=\"T_a9fd3_row5_col5\" class=\"data row5 col5\" >307.229282</td>\n",
       "    </tr>\n",
       "    <tr>\n",
       "      <td id=\"T_a9fd3_row6_col0\" class=\"data row6 col0\" >MS</td>\n",
       "      <td id=\"T_a9fd3_row6_col1\" class=\"data row6 col1\" >1.531084</td>\n",
       "      <td id=\"T_a9fd3_row6_col2\" class=\"data row6 col2\" >0.352370</td>\n",
       "      <td id=\"T_a9fd3_row6_col3\" class=\"data row6 col3\" >-0.513258</td>\n",
       "      <td id=\"T_a9fd3_row6_col4\" class=\"data row6 col4\" >211.534523</td>\n",
       "      <td id=\"T_a9fd3_row6_col5\" class=\"data row6 col5\" >600.318988</td>\n",
       "    </tr>\n",
       "    <tr>\n",
       "      <td id=\"T_a9fd3_row7_col0\" class=\"data row7 col0\" >TRV</td>\n",
       "      <td id=\"T_a9fd3_row7_col1\" class=\"data row7 col1\" >0.870258</td>\n",
       "      <td id=\"T_a9fd3_row7_col2\" class=\"data row7 col2\" >0.284992</td>\n",
       "      <td id=\"T_a9fd3_row7_col3\" class=\"data row7 col3\" >-0.462790</td>\n",
       "      <td id=\"T_a9fd3_row7_col4\" class=\"data row7 col4\" >50.355630</td>\n",
       "      <td id=\"T_a9fd3_row7_col5\" class=\"data row7 col5\" >176.691185</td>\n",
       "    </tr>\n",
       "    <tr>\n",
       "      <td id=\"T_a9fd3_row8_col0\" class=\"data row8 col0\" >GOOG</td>\n",
       "      <td id=\"T_a9fd3_row8_col1\" class=\"data row8 col1\" >1.549500</td>\n",
       "      <td id=\"T_a9fd3_row8_col2\" class=\"data row8 col2\" >0.319614</td>\n",
       "      <td id=\"T_a9fd3_row8_col3\" class=\"data row8 col3\" >-0.446018</td>\n",
       "      <td id=\"T_a9fd3_row8_col4\" class=\"data row8 col4\" >182.669296</td>\n",
       "      <td id=\"T_a9fd3_row8_col5\" class=\"data row8 col5\" >571.530805</td>\n",
       "    </tr>\n",
       "    <tr>\n",
       "      <td id=\"T_a9fd3_row9_col0\" class=\"data row9 col0\" >TSLA</td>\n",
       "      <td id=\"T_a9fd3_row9_col1\" class=\"data row9 col1\" >8.118368</td>\n",
       "      <td id=\"T_a9fd3_row9_col2\" class=\"data row9 col2\" >0.646539</td>\n",
       "      <td id=\"T_a9fd3_row9_col3\" class=\"data row9 col3\" >-0.736322</td>\n",
       "      <td id=\"T_a9fd3_row9_col4\" class=\"data row9 col4\" >2094.521330</td>\n",
       "      <td id=\"T_a9fd3_row9_col5\" class=\"data row9 col5\" >3239.590956</td>\n",
       "    </tr>\n",
       "  </tbody>\n",
       "</table>\n"
      ],
      "text/plain": [
       "<pandas.io.formats.style.Styler at 0x29b87c590>"
      ]
     },
     "execution_count": 13,
     "metadata": {},
     "output_type": "execute_result"
    }
   ],
   "source": [
    "metrics_data = []\n",
    "for ticker in stocks:\n",
    "    metrics = calculate_metrics(ticker, start_date, end_date)\n",
    "    metrics_data.append(metrics)\n",
    "\n",
    "# Create a DataFrame to display results\n",
    "metrics_df = pandas.DataFrame(metrics_data)\n",
    "metrics_df\n",
    "\n",
    "# Style\n",
    "(metrics_df.style.pipe(style_basic)\n",
    "    .set_caption('Historical Performance Metrics')\n",
    "    .set_table_styles(\n",
    "    [{\n",
    "        'selector': 'th.col_heading',\n",
    "        'props': 'text-align: center'\n",
    "    }, {\n",
    "        'selector': 'caption',\n",
    "        'props': [('text-align', 'center'),\n",
    "                  ('font-size', '14pt')]}\n",
    "    ]))\n"
   ]
  },
  {
   "cell_type": "markdown",
   "id": "f1f1096c",
   "metadata": {},
   "source": [
    "#### Create Mean-Variance Optimized Portfolio and generate weightage"
   ]
  },
  {
   "cell_type": "code",
   "execution_count": 14,
   "id": "51c5c796",
   "metadata": {},
   "outputs": [
    {
     "name": "stderr",
     "output_type": "stream",
     "text": [
      "[*********************100%%**********************]  10 of 10 completed\n"
     ]
    },
    {
     "ename": "NameError",
     "evalue": "name 'df' is not defined",
     "output_type": "error",
     "traceback": [
      "\u001b[0;31m---------------------------------------------------------------------------\u001b[0m",
      "\u001b[0;31mNameError\u001b[0m                                 Traceback (most recent call last)",
      "Cell \u001b[0;32mIn[14], line 5\u001b[0m\n\u001b[1;32m      2\u001b[0m stocks_info \u001b[38;5;241m=\u001b[39m yfinance\u001b[38;5;241m.\u001b[39mdownload(stocks, start\u001b[38;5;241m=\u001b[39mstart_date)[\u001b[38;5;124m\"\u001b[39m\u001b[38;5;124mClose\u001b[39m\u001b[38;5;124m\"\u001b[39m]\n\u001b[1;32m      4\u001b[0m \u001b[38;5;66;03m# Calculate Expected annualized returns\u001b[39;00m\n\u001b[0;32m----> 5\u001b[0m mu \u001b[38;5;241m=\u001b[39m expected_returns\u001b[38;5;241m.\u001b[39mmean_historical_return(df)\n\u001b[1;32m      6\u001b[0m \u001b[38;5;66;03m# Calculate annualized sample covariance matrix returns\u001b[39;00m\n\u001b[1;32m      7\u001b[0m S \u001b[38;5;241m=\u001b[39m risk_models\u001b[38;5;241m.\u001b[39msample_cov(stocks_info)\n",
      "\u001b[0;31mNameError\u001b[0m: name 'df' is not defined"
     ]
    }
   ],
   "source": [
    "# Fetch historical data using yfinance\n",
    "stocks_info = yfinance.download(stocks, start=start_date)[\"Close\"]\n",
    "\n",
    "# Calculate Expected annualized returns\n",
    "mu = expected_returns.mean_historical_return(df)\n",
    "# Calculate annualized sample covariance matrix returns\n",
    "S = risk_models.sample_cov(stocks_info)\n",
    " \n",
    "# Generate the Efficient Frontier object - optimize for the MAX sharpe ratio - Based on Risk Free Rate\n",
    "efficient_frontier = EfficientFrontier(mu, S)\n",
    "weights = efficient_frontier.max_sharpe(rf) ##Defaults to 0.02 if 'rf' not specified\n",
    "\n",
    "# Round small marginal weights to 0\n",
    "cleaned_weights = efficient_frontier.clean_weights()\n",
    "\n",
    "# Create a DataFrame to display results\n",
    "cleaned_weights_df = pandas.DataFrame([cleaned_weights])\n",
    "cleaned_weights_df\n",
    "\n",
    "# Style\n",
    "(cleaned_weights_df.style.pipe(style_basic)\n",
    "    .set_caption('Optimized Portfolio Weightage')\n",
    "    .set_table_styles(\n",
    "    [{\n",
    "        'selector': 'th.col_heading',\n",
    "        'props': 'text-align: center'\n",
    "    }, {\n",
    "        'selector': 'caption',\n",
    "        'props': [('text-align', 'center'),\n",
    "                  ('font-size', '14pt'),\n",
    "                  ('font-weight', 'bold')]}\n",
    "    ]))"
   ]
  },
  {
   "cell_type": "markdown",
   "id": "04d9d134",
   "metadata": {},
   "source": [
    "#### Display Optimized Portfolio Performance Metrics"
   ]
  },
  {
   "cell_type": "code",
   "execution_count": 7,
   "id": "fdd55c62",
   "metadata": {},
   "outputs": [
    {
     "ename": "NameError",
     "evalue": "name 'efficient_frontier' is not defined",
     "output_type": "error",
     "traceback": [
      "\u001b[0;31m---------------------------------------------------------------------------\u001b[0m",
      "\u001b[0;31mNameError\u001b[0m                                 Traceback (most recent call last)",
      "Cell \u001b[0;32mIn[7], line 1\u001b[0m\n\u001b[0;32m----> 1\u001b[0m efficient_frontier\u001b[38;5;241m.\u001b[39mportfolio_performance(verbose\u001b[38;5;241m=\u001b[39m\u001b[38;5;28;01mTrue\u001b[39;00m, risk_free_rate\u001b[38;5;241m=\u001b[39mrf)\n",
      "\u001b[0;31mNameError\u001b[0m: name 'efficient_frontier' is not defined"
     ]
    }
   ],
   "source": [
    "efficient_frontier.portfolio_performance(verbose=True, risk_free_rate=rf)"
   ]
  },
  {
   "cell_type": "markdown",
   "id": "1ddd5d72",
   "metadata": {},
   "source": [
    "#### Display Discrete Stock share Allocations based on Optimal Portfolio"
   ]
  },
  {
   "cell_type": "code",
   "execution_count": 81,
   "id": "be9f1333",
   "metadata": {},
   "outputs": [
    {
     "data": {
      "text/html": [
       "<style type=\"text/css\">\n",
       "#T_22c3a th.col_heading {\n",
       "  text-align: center;\n",
       "}\n",
       "#T_22c3a caption {\n",
       "  text-align: center;\n",
       "  font-size: 16pt;\n",
       "  font-weight: bold;\n",
       "}\n",
       "#T_22c3a_row0_col0, #T_22c3a_row0_col1, #T_22c3a_row0_col2 {\n",
       "  border: 0.1px solid black;\n",
       "}\n",
       "</style>\n",
       "<table id=\"T_22c3a\">\n",
       "  <caption>Discrete Optimal Stock Allocation</caption>\n",
       "  <thead>\n",
       "    <tr>\n",
       "      <th id=\"T_22c3a_level0_col0\" class=\"col_heading level0 col0\" >AAPL</th>\n",
       "      <th id=\"T_22c3a_level0_col1\" class=\"col_heading level0 col1\" >TSLA</th>\n",
       "      <th id=\"T_22c3a_level0_col2\" class=\"col_heading level0 col2\" >GOOG</th>\n",
       "    </tr>\n",
       "  </thead>\n",
       "  <tbody>\n",
       "    <tr>\n",
       "      <td id=\"T_22c3a_row0_col0\" class=\"data row0 col0\" >894</td>\n",
       "      <td id=\"T_22c3a_row0_col1\" class=\"data row0 col1\" >313</td>\n",
       "      <td id=\"T_22c3a_row0_col2\" class=\"data row0 col2\" >264</td>\n",
       "    </tr>\n",
       "  </tbody>\n",
       "</table>\n"
      ],
      "text/plain": [
       "<pandas.io.formats.style.Styler at 0x29e2efb90>"
      ]
     },
     "execution_count": 81,
     "metadata": {},
     "output_type": "execute_result"
    }
   ],
   "source": [
    "prices = get_latest_prices(df)\n",
    "allocations_info = DiscreteAllocation(cleaned_weights, prices, total_portfolio_value=budget)\n",
    "\n",
    "# Allocate using 'Linear Programming'\n",
    "#allocation, leftover = allocations_info.lp_portfolio()\n",
    "\n",
    "# Allocate using 'Greedy Portfolio'\n",
    "allocation, leftover = allocations_info.greedy_portfolio()\n",
    "\n",
    "\n",
    "allocation_df = pandas.DataFrame([allocation])\n",
    "allocation_df\n",
    "\n",
    "# Style\n",
    "(allocation_df.style.pipe(style_basic)\n",
    "    .set_caption('Discrete Optimal Stock Allocation')\n",
    "    .set_table_styles(\n",
    "    [{\n",
    "        'selector': 'th.col_heading',\n",
    "        'props': 'text-align: center'\n",
    "    }, {\n",
    "        'selector': 'caption',\n",
    "        'props': [('text-align', 'center'),\n",
    "                  ('font-size', '16pt'),\n",
    "                  ('font-weight', 'bold')]}\n",
    "    ]))\n"
   ]
  },
  {
   "cell_type": "code",
   "execution_count": 82,
   "id": "9833771f",
   "metadata": {},
   "outputs": [
    {
     "name": "stdout",
     "output_type": "stream",
     "text": [
      "Funds Remaining after optimal allocation: $ 116.86872863769531\n"
     ]
    }
   ],
   "source": [
    "print(\"Funds Remaining after optimal allocation:\", \"$\", leftover)"
   ]
  },
  {
   "cell_type": "code",
   "execution_count": null,
   "id": "dc16e1ff",
   "metadata": {},
   "outputs": [],
   "source": []
  }
 ],
 "metadata": {
  "kernelspec": {
   "display_name": "Python 3 (ipykernel)",
   "language": "python",
   "name": "python3"
  },
  "language_info": {
   "codemirror_mode": {
    "name": "ipython",
    "version": 3
   },
   "file_extension": ".py",
   "mimetype": "text/x-python",
   "name": "python",
   "nbconvert_exporter": "python",
   "pygments_lexer": "ipython3",
   "version": "3.11.5"
  }
 },
 "nbformat": 4,
 "nbformat_minor": 5
}
